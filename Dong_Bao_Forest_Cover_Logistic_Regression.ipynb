{
 "cells": [
  {
   "cell_type": "code",
   "execution_count": 8,
   "metadata": {},
   "outputs": [
    {
     "name": "stdout",
     "output_type": "stream",
     "text": [
      "/home/jovyan/work/nbs\n"
     ]
    }
   ],
   "source": [
    "from pyspark.mllib.linalg import Vectors\n",
    "from pyspark.mllib.classification import LogisticRegressionWithLBFGS,LogisticRegressionModel\n",
    "from pyspark.mllib.regression import LabeledPoint\n",
    "import numpy as np\n",
    "from load_dataset import *\n",
    "import os\n",
    "print(os.getcwd()) "
   ]
  },
  {
   "cell_type": "code",
   "execution_count": 9,
   "metadata": {},
   "outputs": [
    {
     "name": "stdout",
     "output_type": "stream",
     "text": [
      "20000   20000   20000   2747   9493   17367   20510\n"
     ]
    }
   ],
   "source": [
    "type0_df, type1_df, type2_df, type3_df, type4_df, type5_df, type6_df=load_data()"
   ]
  },
  {
   "cell_type": "code",
   "execution_count": 10,
   "metadata": {},
   "outputs": [
    {
     "name": "stdout",
     "output_type": "stream",
     "text": [
      "total dataset number:  110117\n",
      "training_rows_number:  77096  validation_rows_number: 33021\n"
     ]
    }
   ],
   "source": [
    "training_forest_data, validation_forest_data=load_training_and_validation_data(type0_df, type1_df, type2_df, type3_df, type4_df, type5_df, type6_df)"
   ]
  },
  {
   "cell_type": "code",
   "execution_count": 14,
   "metadata": {},
   "outputs": [],
   "source": [
    "tree_validation_features_rdd=validation_forest_data.rdd.map(list).map(lambda row:row[0:54])\n",
    "tree_validation_label_rdd=validation_forest_data.rdd.map(list).map(lambda row:row[54]).collect()\n",
    "final_forest_train_rdd=training_forest_data.rdd.map(list).map(lambda row: \n",
    "    LabeledPoint(\n",
    "          row[54], \n",
    "          [row[0:54]]\n",
    "    )\n",
    "  )\n",
    "lrm=LogisticRegressionWithLBFGS.train(final_forest_train_rdd, iterations=500,numClasses=7)"
   ]
  },
  {
   "cell_type": "code",
   "execution_count": 21,
   "metadata": {},
   "outputs": [
    {
     "name": "stdout",
     "output_type": "stream",
     "text": [
      "prediction:  4  true label:  4   True\n",
      "prediction:  5  true label:  5   True\n",
      "prediction:  2  true label:  2   True\n",
      "prediction:  4  true label:  4   True\n",
      "prediction:  0  true label:  0   True\n",
      "prediction:  4  true label:  4   True\n",
      "prediction:  1  true label:  1   True\n",
      "prediction:  4  true label:  4   True\n",
      "prediction:  4  true label:  4   True\n",
      "prediction:  5  true label:  5   True\n",
      "accuracy:  0.7764385221078135\n",
      "1\n"
     ]
    }
   ],
   "source": [
    "#lrm.save(sc, \"lrm_model10.model\")\n",
    "#model8 trained and validated with 110117 dataset, iteration 500, overall accuracy 0.741869\n",
    "#model9 trained and validated with 110117 dataset, iteration 1000, overall accuracy 0.747552889\n",
    "#model10 trained and validated with 110117 dataset, iteration 500, overall accuracy 0.7764385221078135\n",
    "lrm = LogisticRegressionModel.load(sc, \"lrm_model10.model\")\n",
    "predictions=lrm.predict(tree_validation_features_rdd).collect()\n",
    "count=0\n",
    "correct_prediction_number=0\n",
    "a=tree_validation_label_rdd.collect()\n",
    "for b in predictions:\n",
    "    if count<10:\n",
    "        print(\"prediction: \",b,\" true label: \",tree_validation_label_rdd[count],\" \",(b==tree_validation_label_rdd[count]))\n",
    "    if b==tree_validation_label_rdd[count]:\n",
    "        correct_prediction_number=correct_prediction_number+1\n",
    "    count=count+1\n",
    "ac=correct_prediction_number/(count-1)\n",
    "print(\"accuracy: \",ac)\n",
    "a=lrm.predict([2511,92,7,182,18,722,231,229,131,5494,1,0,0,0,0,0,0,0,0,0,0,0,0,0,0,0,0,0,0,0,0,1,0,0,0,0,0,0,0,0,0,0,0,0,0,0,0,0,0,0,0,0,0,0])\n",
    "print(a)"
   ]
  },
  {
   "cell_type": "code",
   "execution_count": null,
   "metadata": {},
   "outputs": [],
   "source": []
  }
 ],
 "metadata": {
  "kernelspec": {
   "display_name": "Python 3",
   "language": "python",
   "name": "python3"
  },
  "language_info": {
   "codemirror_mode": {
    "name": "ipython",
    "version": 3
   },
   "file_extension": ".py",
   "mimetype": "text/x-python",
   "name": "python",
   "nbconvert_exporter": "python",
   "pygments_lexer": "ipython3",
   "version": "3.8.5"
  }
 },
 "nbformat": 4,
 "nbformat_minor": 4
}
