{
 "cells": [
  {
   "cell_type": "code",
   "execution_count": 1,
   "metadata": {},
   "outputs": [
    {
     "name": "stdout",
     "output_type": "stream",
     "text": [
      "/home/jovyan/work/nbs\n"
     ]
    }
   ],
   "source": [
    "from pyspark.ml.classification import DecisionTreeClassifier\n",
    "from pyspark.ml.feature import StringIndexer, VectorIndexer\n",
    "from pyspark.ml.evaluation import MulticlassClassificationEvaluator\n",
    "from load_dataset import *\n",
    "import os\n",
    "print(os.getcwd()) "
   ]
  },
  {
   "cell_type": "code",
   "execution_count": 2,
   "metadata": {},
   "outputs": [
    {
     "name": "stdout",
     "output_type": "stream",
     "text": [
      "20000   20000   20000   2747   9493   17367   20510\n"
     ]
    }
   ],
   "source": [
    "type0_df, type1_df, type2_df, type3_df, type4_df, type5_df, type6_df=load_data()"
   ]
  },
  {
   "cell_type": "code",
   "execution_count": 3,
   "metadata": {},
   "outputs": [],
   "source": [
    "feature_cols=get_features_title()"
   ]
  },
  {
   "cell_type": "code",
   "execution_count": 6,
   "metadata": {},
   "outputs": [
    {
     "name": "stdout",
     "output_type": "stream",
     "text": [
      "total dataset number:  110117\n",
      "10\n"
     ]
    }
   ],
   "source": [
    "divided_forest_list=load_data_ten_fold_cross_validation(feature_cols, type0_df, type1_df, type2_df, type3_df, type4_df, type5_df, type6_df)\n"
   ]
  },
  {
   "cell_type": "code",
   "execution_count": 7,
   "metadata": {},
   "outputs": [
    {
     "name": "stdout",
     "output_type": "stream",
     "text": [
      "+------------------------------------------------------------------------------------------------------+-----+\n",
      "|features                                                                                              |label|\n",
      "+------------------------------------------------------------------------------------------------------+-----+\n",
      "|(54,[0,1,2,3,4,5,6,7,8,9,10,42],[2640.0,135.0,17.0,42.0,10.0,1295.0,244.0,230.0,109.0,6383.0,1.0,1.0])|1    |\n",
      "|(54,[0,1,2,3,4,5,6,7,8,9,12,24],[2960.0,193.0,3.0,674.0,128.0,577.0,219.0,242.0,159.0,1429.0,1.0,1.0])|4    |\n",
      "|(54,[0,1,2,3,4,5,6,7,8,9,10,42],[2837.0,90.0,15.0,67.0,10.0,5370.0,242.0,215.0,99.0,4491.0,1.0,1.0])  |1    |\n",
      "|(54,[0,1,2,3,4,5,6,7,8,9,12,23],[2534.0,329.0,10.0,67.0,-2.0,1449.0,197.0,229.0,171.0,1445.0,1.0,1.0])|5    |\n",
      "|(54,[0,1,2,3,4,5,6,7,8,9,10,42],[2603.0,99.0,14.0,525.0,77.0,1060.0,242.0,221.0,106.0,3823.0,1.0,1.0])|1    |\n",
      "+------------------------------------------------------------------------------------------------------+-----+\n",
      "only showing top 5 rows\n",
      "\n"
     ]
    }
   ],
   "source": [
    "divided_forest_list[9].show(5, False)"
   ]
  },
  {
   "cell_type": "code",
   "execution_count": 19,
   "metadata": {},
   "outputs": [
    {
     "name": "stdout",
     "output_type": "stream",
     "text": [
      "+------------------------------------------------------------------------------------------------------+-----+\n",
      "|features                                                                                              |label|\n",
      "+------------------------------------------------------------------------------------------------------+-----+\n",
      "|(54,[0,1,2,3,4,5,6,7,8,9,12,51],[3386.0,53.0,10.0,182.0,37.0,2848.0,226.0,219.0,127.0,1533.0,1.0,1.0])|6    |\n",
      "|(54,[0,1,2,3,4,5,6,7,8,9,13,23],[2028.0,27.0,24.0,30.0,3.0,331.0,202.0,180.0,104.0,745.0,1.0,1.0])    |2    |\n",
      "|(54,[0,1,2,3,4,5,6,7,8,9,12,52],[3263.0,159.0,39.0,182.0,106.0,1358.0,228.0,215.0,80.0,778.0,1.0,1.0])|6    |\n",
      "+------------------------------------------------------------------------------------------------------+-----+\n",
      "only showing top 3 rows\n",
      "\n",
      "+-------------------------------------------------------------------------------------------------------+-----+\n",
      "|features                                                                                               |label|\n",
      "+-------------------------------------------------------------------------------------------------------+-----+\n",
      "|(54,[0,1,2,3,4,5,6,7,8,9,13,15],[2220.0,178.0,11.0,201.0,84.0,150.0,225.0,246.0,153.0,365.0,1.0,1.0])  |2    |\n",
      "|(54,[0,1,2,3,4,5,6,7,8,9,10,52],[3388.0,292.0,11.0,395.0,12.0,2910.0,189.0,238.0,189.0,2060.0,1.0,1.0])|6    |\n",
      "|(54,[0,1,2,3,4,5,6,7,8,9,10,43],[2826.0,94.0,35.0,175.0,66.0,285.0,250.0,166.0,14.0,2586.0,1.0,1.0])   |4    |\n",
      "+-------------------------------------------------------------------------------------------------------+-----+\n",
      "only showing top 3 rows\n",
      "\n",
      "+-------------------------------------------------------------------------------------------------------+-----+\n",
      "|features                                                                                               |label|\n",
      "+-------------------------------------------------------------------------------------------------------+-----+\n",
      "|(54,[0,1,2,3,4,5,6,7,8,9,13,15],[2220.0,178.0,11.0,201.0,84.0,150.0,225.0,246.0,153.0,365.0,1.0,1.0])  |2    |\n",
      "|(54,[0,1,2,3,4,5,6,7,8,9,10,52],[3388.0,292.0,11.0,395.0,12.0,2910.0,189.0,238.0,189.0,2060.0,1.0,1.0])|6    |\n",
      "|(54,[0,1,2,3,4,5,6,7,8,9,10,43],[2826.0,94.0,35.0,175.0,66.0,285.0,250.0,166.0,14.0,2586.0,1.0,1.0])   |4    |\n",
      "+-------------------------------------------------------------------------------------------------------+-----+\n",
      "only showing top 3 rows\n",
      "\n",
      "+-------------------------------------------------------------------------------------------------------+-----+\n",
      "|features                                                                                               |label|\n",
      "+-------------------------------------------------------------------------------------------------------+-----+\n",
      "|(54,[0,1,2,3,4,5,6,7,8,9,13,15],[2220.0,178.0,11.0,201.0,84.0,150.0,225.0,246.0,153.0,365.0,1.0,1.0])  |2    |\n",
      "|(54,[0,1,2,3,4,5,6,7,8,9,10,52],[3388.0,292.0,11.0,395.0,12.0,2910.0,189.0,238.0,189.0,2060.0,1.0,1.0])|6    |\n",
      "|(54,[0,1,2,3,4,5,6,7,8,9,10,43],[2826.0,94.0,35.0,175.0,66.0,285.0,250.0,166.0,14.0,2586.0,1.0,1.0])   |4    |\n",
      "+-------------------------------------------------------------------------------------------------------+-----+\n",
      "only showing top 3 rows\n",
      "\n",
      "+-------------------------------------------------------------------------------------------------------+-----+\n",
      "|features                                                                                               |label|\n",
      "+-------------------------------------------------------------------------------------------------------+-----+\n",
      "|(54,[0,1,2,3,4,5,6,7,8,9,13,15],[2220.0,178.0,11.0,201.0,84.0,150.0,225.0,246.0,153.0,365.0,1.0,1.0])  |2    |\n",
      "|(54,[0,1,2,3,4,5,6,7,8,9,10,52],[3388.0,292.0,11.0,395.0,12.0,2910.0,189.0,238.0,189.0,2060.0,1.0,1.0])|6    |\n",
      "|(54,[0,1,2,3,4,5,6,7,8,9,10,43],[2826.0,94.0,35.0,175.0,66.0,285.0,250.0,166.0,14.0,2586.0,1.0,1.0])   |4    |\n",
      "+-------------------------------------------------------------------------------------------------------+-----+\n",
      "only showing top 3 rows\n",
      "\n",
      "+-------------------------------------------------------------------------------------------------------+-----+\n",
      "|features                                                                                               |label|\n",
      "+-------------------------------------------------------------------------------------------------------+-----+\n",
      "|(54,[0,1,2,3,4,5,6,7,8,9,13,15],[2220.0,178.0,11.0,201.0,84.0,150.0,225.0,246.0,153.0,365.0,1.0,1.0])  |2    |\n",
      "|(54,[0,1,2,3,4,5,6,7,8,9,10,52],[3388.0,292.0,11.0,395.0,12.0,2910.0,189.0,238.0,189.0,2060.0,1.0,1.0])|6    |\n",
      "|(54,[0,1,2,3,4,5,6,7,8,9,10,43],[2826.0,94.0,35.0,175.0,66.0,285.0,250.0,166.0,14.0,2586.0,1.0,1.0])   |4    |\n",
      "+-------------------------------------------------------------------------------------------------------+-----+\n",
      "only showing top 3 rows\n",
      "\n",
      "+-------------------------------------------------------------------------------------------------------+-----+\n",
      "|features                                                                                               |label|\n",
      "+-------------------------------------------------------------------------------------------------------+-----+\n",
      "|(54,[0,1,2,3,4,5,6,7,8,9,13,15],[2220.0,178.0,11.0,201.0,84.0,150.0,225.0,246.0,153.0,365.0,1.0,1.0])  |2    |\n",
      "|(54,[0,1,2,3,4,5,6,7,8,9,10,52],[3388.0,292.0,11.0,395.0,12.0,2910.0,189.0,238.0,189.0,2060.0,1.0,1.0])|6    |\n",
      "|(54,[0,1,2,3,4,5,6,7,8,9,10,43],[2826.0,94.0,35.0,175.0,66.0,285.0,250.0,166.0,14.0,2586.0,1.0,1.0])   |4    |\n",
      "+-------------------------------------------------------------------------------------------------------+-----+\n",
      "only showing top 3 rows\n",
      "\n",
      "+-------------------------------------------------------------------------------------------------------+-----+\n",
      "|features                                                                                               |label|\n",
      "+-------------------------------------------------------------------------------------------------------+-----+\n",
      "|(54,[0,1,2,3,4,5,6,7,8,9,13,15],[2220.0,178.0,11.0,201.0,84.0,150.0,225.0,246.0,153.0,365.0,1.0,1.0])  |2    |\n",
      "|(54,[0,1,2,3,4,5,6,7,8,9,10,52],[3388.0,292.0,11.0,395.0,12.0,2910.0,189.0,238.0,189.0,2060.0,1.0,1.0])|6    |\n",
      "|(54,[0,1,2,3,4,5,6,7,8,9,10,43],[2826.0,94.0,35.0,175.0,66.0,285.0,250.0,166.0,14.0,2586.0,1.0,1.0])   |4    |\n",
      "+-------------------------------------------------------------------------------------------------------+-----+\n",
      "only showing top 3 rows\n",
      "\n",
      "+-------------------------------------------------------------------------------------------------------+-----+\n",
      "|features                                                                                               |label|\n",
      "+-------------------------------------------------------------------------------------------------------+-----+\n",
      "|(54,[0,1,2,3,4,5,6,7,8,9,13,15],[2220.0,178.0,11.0,201.0,84.0,150.0,225.0,246.0,153.0,365.0,1.0,1.0])  |2    |\n",
      "|(54,[0,1,2,3,4,5,6,7,8,9,10,52],[3388.0,292.0,11.0,395.0,12.0,2910.0,189.0,238.0,189.0,2060.0,1.0,1.0])|6    |\n",
      "|(54,[0,1,2,3,4,5,6,7,8,9,10,43],[2826.0,94.0,35.0,175.0,66.0,285.0,250.0,166.0,14.0,2586.0,1.0,1.0])   |4    |\n",
      "+-------------------------------------------------------------------------------------------------------+-----+\n",
      "only showing top 3 rows\n",
      "\n",
      "+-------------------------------------------------------------------------------------------------------+-----+\n",
      "|features                                                                                               |label|\n",
      "+-------------------------------------------------------------------------------------------------------+-----+\n",
      "|(54,[0,1,2,3,4,5,6,7,8,9,13,15],[2220.0,178.0,11.0,201.0,84.0,150.0,225.0,246.0,153.0,365.0,1.0,1.0])  |2    |\n",
      "|(54,[0,1,2,3,4,5,6,7,8,9,10,52],[3388.0,292.0,11.0,395.0,12.0,2910.0,189.0,238.0,189.0,2060.0,1.0,1.0])|6    |\n",
      "|(54,[0,1,2,3,4,5,6,7,8,9,10,43],[2826.0,94.0,35.0,175.0,66.0,285.0,250.0,166.0,14.0,2586.0,1.0,1.0])   |4    |\n",
      "+-------------------------------------------------------------------------------------------------------+-----+\n",
      "only showing top 3 rows\n",
      "\n"
     ]
    }
   ],
   "source": [
    "training_data_final=[]\n",
    "validation_data_final=[]\n",
    "# create cross validation datasets\n",
    "for i in range(0,10):\n",
    "    validation_data_final.append(divided_forest_list[i])\n",
    "    new_df=get_empty_df(divided_forest_list[i].schema)\n",
    "    for j in range(0,10):\n",
    "        if j!=i:\n",
    "            new_df=new_df.union(divided_forest_list[j])\n",
    "    training_data_final.append(new_df)\n",
    "\n",
    "for i in training_data_final:\n",
    "    #print(i.count())\n",
    "    i.show(3,False)"
   ]
  },
  {
   "cell_type": "code",
   "execution_count": 23,
   "metadata": {},
   "outputs": [
    {
     "name": "stdout",
     "output_type": "stream",
     "text": [
      "0.7773363431151241\n",
      "0.7699720796181212\n",
      "0.7810995002271695\n",
      "0.7765342960288809\n",
      "0.7781529476181785\n",
      "0.768595041322314\n",
      "0.7659574468085106\n",
      "0.7701885771000632\n",
      "0.7697512801755669\n",
      "0.7756847756847757\n",
      "finished predict\n"
     ]
    }
   ],
   "source": [
    "# Train a DecisionTree model.\n",
    "dt = DecisionTreeClassifier(labelCol=\"label\", featuresCol=\"features\")\n",
    "evaluator = MulticlassClassificationEvaluator(\n",
    "    labelCol=\"label\", predictionCol=\"prediction\", metricName=\"accuracy\")\n",
    "accuracy_list=[]\n",
    "#7 mins for one loop\n",
    "for i in range(0,10):\n",
    "    model = dt.fit(training_data_final[i])\n",
    "    # Make predictions.\n",
    "    predictions = model.transform(validation_data_final[i])\n",
    "    accuracy = evaluator.evaluate(predictions)\n",
    "    accuracy_list.append(accuracy)\n",
    "    print(accuracy)\n",
    "print(\"finished predict\")\n"
   ]
  },
  {
   "cell_type": "code",
   "execution_count": 25,
   "metadata": {},
   "outputs": [
    {
     "data": {
      "text/plain": [
       "[<matplotlib.lines.Line2D at 0x7f82a337f040>]"
      ]
     },
     "execution_count": 25,
     "metadata": {},
     "output_type": "execute_result"
    },
    {
     "data": {
      "image/png": "[encoded data removed]",
      "text/plain": [
       "<Figure size 432x288 with 1 Axes>"
      ]
     },
     "metadata": {
      "needs_background": "light"
     },
     "output_type": "display_data"
    }
   ],
   "source": [
    "import matplotlib.pyplot as plt\n",
    "plt.plot([1, 2, 3, 4, 5, 6, 7, 8, 9, 10], accuracy_list)"
   ]
  },
  {
   "cell_type": "code",
   "execution_count": 26,
   "metadata": {},
   "outputs": [
    {
     "name": "stdout",
     "output_type": "stream",
     "text": [
      "average accuracy:  0.7733272287698705\n"
     ]
    }
   ],
   "source": [
    "sum=0\n",
    "for i in accuracy_list:\n",
    "    sum=sum+i\n",
    "print(\"average accuracy: \",sum/10)"
   ]
  },
  {
   "cell_type": "code",
   "execution_count": null,
   "metadata": {},
   "outputs": [],
   "source": []
  },
  {
   "cell_type": "code",
   "execution_count": null,
   "metadata": {},
   "outputs": [],
   "source": []
  }
 ],
 "metadata": {
  "kernelspec": {
   "display_name": "Python 3",
   "language": "python",
   "name": "python3"
  },
  "language_info": {
   "codemirror_mode": {
    "name": "ipython",
    "version": 3
   },
   "file_extension": ".py",
   "mimetype": "text/x-python",
   "name": "python",
   "nbconvert_exporter": "python",
   "pygments_lexer": "ipython3",
   "version": "3.8.5"
  }
 },
 "nbformat": 4,
 "nbformat_minor": 4
}
